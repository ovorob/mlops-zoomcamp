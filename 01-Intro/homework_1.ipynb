{
 "cells": [
  {
   "cell_type": "code",
   "execution_count": 1,
   "id": "12ad462d-fb7a-47b6-83de-08734bbe1856",
   "metadata": {},
   "outputs": [],
   "source": [
    "import pandas as pd\n",
    "from sklearn.feature_extraction import DictVectorizer\n",
    "from sklearn.linear_model import LinearRegression\n",
    "from sklearn.metrics import mean_squared_error"
   ]
  },
  {
   "cell_type": "code",
   "execution_count": 2,
   "id": "1b7f0120-b176-473d-8e33-2c504074b1b8",
   "metadata": {},
   "outputs": [],
   "source": [
    "df = pd.read_parquet('./data/yellow_tripdata_2023-01.parquet')"
   ]
  },
  {
   "cell_type": "markdown",
   "id": "61ceab79-d880-4d24-9674-2d5f077125ed",
   "metadata": {},
   "source": [
    "## Read the data for January. How many columns are there?"
   ]
  },
  {
   "cell_type": "code",
   "execution_count": 3,
   "id": "f6a7e54b-f67f-4e7a-a7f8-6b34ac741824",
   "metadata": {},
   "outputs": [
    {
     "data": {
      "text/plain": [
       "19"
      ]
     },
     "execution_count": 3,
     "metadata": {},
     "output_type": "execute_result"
    }
   ],
   "source": [
    "df.shape[1]"
   ]
  },
  {
   "cell_type": "markdown",
   "id": "a8b4c8d5-a948-447f-ba92-87e6d025acbd",
   "metadata": {},
   "source": [
    "## Now let's compute the duration variable."
   ]
  },
  {
   "cell_type": "code",
   "execution_count": 4,
   "id": "86674f61-52ea-46dd-9aac-278af0e95089",
   "metadata": {},
   "outputs": [],
   "source": [
    "df['duration'] = df['tpep_dropoff_datetime'] - df['tpep_pickup_datetime']"
   ]
  },
  {
   "cell_type": "code",
   "execution_count": 5,
   "id": "00814f30-3701-4818-837f-39db7cadc1a9",
   "metadata": {},
   "outputs": [],
   "source": [
    "df['duration'] = df['duration'].apply(lambda x: x.total_seconds() / 60)"
   ]
  },
  {
   "cell_type": "markdown",
   "id": "b9de1e5d-539d-4d99-b6b9-d26cca89d9aa",
   "metadata": {},
   "source": [
    "## Standard deviation of the trips duration in January"
   ]
  },
  {
   "cell_type": "code",
   "execution_count": 6,
   "id": "8369d4e8-53e9-47f2-b473-bd780d9f8571",
   "metadata": {},
   "outputs": [
    {
     "data": {
      "text/plain": [
       "42.594351241920904"
      ]
     },
     "execution_count": 6,
     "metadata": {},
     "output_type": "execute_result"
    }
   ],
   "source": [
    "df['duration'].std()"
   ]
  },
  {
   "cell_type": "markdown",
   "id": "717ffd36-0b83-400b-aad1-abde1a538c9b",
   "metadata": {},
   "source": [
    "## What fraction of the records left after you dropped the outliers?"
   ]
  },
  {
   "cell_type": "code",
   "execution_count": 7,
   "id": "898e3e7d-1bab-486d-a3b4-7b0697c46ed1",
   "metadata": {},
   "outputs": [
    {
     "data": {
      "text/plain": [
       "98.1220282212598"
      ]
     },
     "execution_count": 7,
     "metadata": {},
     "output_type": "execute_result"
    }
   ],
   "source": [
    "df[(df['duration'] >= 1) & (df['duration'] <= 60)].shape[0] / df.shape[0] * 100"
   ]
  },
  {
   "cell_type": "code",
   "execution_count": 8,
   "id": "32a63dfd-99dd-4399-9f26-ff54f0cd1678",
   "metadata": {},
   "outputs": [],
   "source": [
    "df = df[(df['duration'] >= 1) & (df['duration'] <= 60)]"
   ]
  },
  {
   "cell_type": "markdown",
   "id": "08db80b2-0e22-4828-af5f-589fee7fb602",
   "metadata": {},
   "source": [
    "## Let's apply one-hot encoding to the pickup and dropoff location IDs. We'll use only these two features for our model.\n",
    "\n",
    "- ### Turn the dataframe into a list of dictionaries (remember to re-cast the ids to strings - otherwise it will label encode them)\n",
    "- ### Fit a dictionary vectorizer\n",
    "- ### Get a feature matrix from it\n",
    "## What's the dimensionality of this matrix (number of columns)?\n",
    "\n"
   ]
  },
  {
   "cell_type": "code",
   "execution_count": 9,
   "id": "59d8587d-a7e9-4c4b-8c5c-2c7f45414b82",
   "metadata": {},
   "outputs": [],
   "source": [
    "categorical = ['PULocationID', 'DOLocationID']\n",
    "df[categorical] = df[categorical].astype(str)"
   ]
  },
  {
   "cell_type": "code",
   "execution_count": 10,
   "id": "24b30194-e9e6-45a2-83f8-8806e87cc18a",
   "metadata": {},
   "outputs": [],
   "source": [
    "train_dict = df[categorical].to_dict(orient='records')"
   ]
  },
  {
   "cell_type": "markdown",
   "id": "2bcb4fe1-6d4d-4157-8db8-bfbe74c742ea",
   "metadata": {},
   "source": [
    "## X_train"
   ]
  },
  {
   "cell_type": "code",
   "execution_count": 11,
   "id": "d8b2e29a-4c87-45a5-9c14-7b1f76bdab66",
   "metadata": {},
   "outputs": [
    {
     "data": {
      "text/plain": [
       "<3009173x515 sparse matrix of type '<class 'numpy.float64'>'\n",
       "\twith 6018346 stored elements in Compressed Sparse Row format>"
      ]
     },
     "execution_count": 11,
     "metadata": {},
     "output_type": "execute_result"
    }
   ],
   "source": [
    "dv = DictVectorizer()\n",
    "X_train = dv.fit_transform(train_dict)\n",
    "X_train"
   ]
  },
  {
   "cell_type": "markdown",
   "id": "29a98332-4693-4faf-ade2-4fefc152aff7",
   "metadata": {},
   "source": [
    "## y_train"
   ]
  },
  {
   "cell_type": "code",
   "execution_count": 12,
   "id": "ce9d55a9-4688-4f32-8c62-7c83b4324ac3",
   "metadata": {},
   "outputs": [
    {
     "data": {
      "text/plain": [
       "array([ 8.43333333,  6.31666667, 12.75      , ..., 24.51666667,\n",
       "       13.        , 14.4       ])"
      ]
     },
     "execution_count": 12,
     "metadata": {},
     "output_type": "execute_result"
    }
   ],
   "source": [
    "y_train = df['duration'].values\n",
    "y_train"
   ]
  },
  {
   "cell_type": "markdown",
   "id": "5ba5fa9f-31cc-49bd-a3b4-b35a50c7224c",
   "metadata": {},
   "source": [
    "## Now let's use the feature matrix from the previous step to train a model.\n",
    "\n",
    "- ### Train a plain linear regression model with default parameters, where duration is the response variable\n",
    "- ### Calculate the RMSE of the model on the training data\n",
    "## What's the RMSE on train?"
   ]
  },
  {
   "cell_type": "code",
   "execution_count": 13,
   "id": "c78bd9d6-f693-4287-8275-10cbaee930a2",
   "metadata": {},
   "outputs": [
    {
     "data": {
      "text/html": [
       "<style>#sk-container-id-1 {color: black;background-color: white;}#sk-container-id-1 pre{padding: 0;}#sk-container-id-1 div.sk-toggleable {background-color: white;}#sk-container-id-1 label.sk-toggleable__label {cursor: pointer;display: block;width: 100%;margin-bottom: 0;padding: 0.3em;box-sizing: border-box;text-align: center;}#sk-container-id-1 label.sk-toggleable__label-arrow:before {content: \"▸\";float: left;margin-right: 0.25em;color: #696969;}#sk-container-id-1 label.sk-toggleable__label-arrow:hover:before {color: black;}#sk-container-id-1 div.sk-estimator:hover label.sk-toggleable__label-arrow:before {color: black;}#sk-container-id-1 div.sk-toggleable__content {max-height: 0;max-width: 0;overflow: hidden;text-align: left;background-color: #f0f8ff;}#sk-container-id-1 div.sk-toggleable__content pre {margin: 0.2em;color: black;border-radius: 0.25em;background-color: #f0f8ff;}#sk-container-id-1 input.sk-toggleable__control:checked~div.sk-toggleable__content {max-height: 200px;max-width: 100%;overflow: auto;}#sk-container-id-1 input.sk-toggleable__control:checked~label.sk-toggleable__label-arrow:before {content: \"▾\";}#sk-container-id-1 div.sk-estimator input.sk-toggleable__control:checked~label.sk-toggleable__label {background-color: #d4ebff;}#sk-container-id-1 div.sk-label input.sk-toggleable__control:checked~label.sk-toggleable__label {background-color: #d4ebff;}#sk-container-id-1 input.sk-hidden--visually {border: 0;clip: rect(1px 1px 1px 1px);clip: rect(1px, 1px, 1px, 1px);height: 1px;margin: -1px;overflow: hidden;padding: 0;position: absolute;width: 1px;}#sk-container-id-1 div.sk-estimator {font-family: monospace;background-color: #f0f8ff;border: 1px dotted black;border-radius: 0.25em;box-sizing: border-box;margin-bottom: 0.5em;}#sk-container-id-1 div.sk-estimator:hover {background-color: #d4ebff;}#sk-container-id-1 div.sk-parallel-item::after {content: \"\";width: 100%;border-bottom: 1px solid gray;flex-grow: 1;}#sk-container-id-1 div.sk-label:hover label.sk-toggleable__label {background-color: #d4ebff;}#sk-container-id-1 div.sk-serial::before {content: \"\";position: absolute;border-left: 1px solid gray;box-sizing: border-box;top: 0;bottom: 0;left: 50%;z-index: 0;}#sk-container-id-1 div.sk-serial {display: flex;flex-direction: column;align-items: center;background-color: white;padding-right: 0.2em;padding-left: 0.2em;position: relative;}#sk-container-id-1 div.sk-item {position: relative;z-index: 1;}#sk-container-id-1 div.sk-parallel {display: flex;align-items: stretch;justify-content: center;background-color: white;position: relative;}#sk-container-id-1 div.sk-item::before, #sk-container-id-1 div.sk-parallel-item::before {content: \"\";position: absolute;border-left: 1px solid gray;box-sizing: border-box;top: 0;bottom: 0;left: 50%;z-index: -1;}#sk-container-id-1 div.sk-parallel-item {display: flex;flex-direction: column;z-index: 1;position: relative;background-color: white;}#sk-container-id-1 div.sk-parallel-item:first-child::after {align-self: flex-end;width: 50%;}#sk-container-id-1 div.sk-parallel-item:last-child::after {align-self: flex-start;width: 50%;}#sk-container-id-1 div.sk-parallel-item:only-child::after {width: 0;}#sk-container-id-1 div.sk-dashed-wrapped {border: 1px dashed gray;margin: 0 0.4em 0.5em 0.4em;box-sizing: border-box;padding-bottom: 0.4em;background-color: white;}#sk-container-id-1 div.sk-label label {font-family: monospace;font-weight: bold;display: inline-block;line-height: 1.2em;}#sk-container-id-1 div.sk-label-container {text-align: center;}#sk-container-id-1 div.sk-container {/* jupyter's `normalize.less` sets `[hidden] { display: none; }` but bootstrap.min.css set `[hidden] { display: none !important; }` so we also need the `!important` here to be able to override the default hidden behavior on the sphinx rendered scikit-learn.org. See: https://github.com/scikit-learn/scikit-learn/issues/21755 */display: inline-block !important;position: relative;}#sk-container-id-1 div.sk-text-repr-fallback {display: none;}</style><div id=\"sk-container-id-1\" class=\"sk-top-container\"><div class=\"sk-text-repr-fallback\"><pre>LinearRegression()</pre><b>In a Jupyter environment, please rerun this cell to show the HTML representation or trust the notebook. <br />On GitHub, the HTML representation is unable to render, please try loading this page with nbviewer.org.</b></div><div class=\"sk-container\" hidden><div class=\"sk-item\"><div class=\"sk-estimator sk-toggleable\"><input class=\"sk-toggleable__control sk-hidden--visually\" id=\"sk-estimator-id-1\" type=\"checkbox\" checked><label for=\"sk-estimator-id-1\" class=\"sk-toggleable__label sk-toggleable__label-arrow\">LinearRegression</label><div class=\"sk-toggleable__content\"><pre>LinearRegression()</pre></div></div></div></div></div>"
      ],
      "text/plain": [
       "LinearRegression()"
      ]
     },
     "execution_count": 13,
     "metadata": {},
     "output_type": "execute_result"
    }
   ],
   "source": [
    "lr = LinearRegression()\n",
    "lr.fit(X_train, y_train)"
   ]
  },
  {
   "cell_type": "code",
   "execution_count": 14,
   "id": "826630fe-3557-4a7f-8869-2ecee53513ac",
   "metadata": {},
   "outputs": [],
   "source": [
    "y_pred_train = lr.predict(X_train)"
   ]
  },
  {
   "cell_type": "code",
   "execution_count": 15,
   "id": "1ce2a8b4-0166-4ef5-a517-80185e4577a4",
   "metadata": {},
   "outputs": [
    {
     "data": {
      "text/plain": [
       "7.649261930819891"
      ]
     },
     "execution_count": 15,
     "metadata": {},
     "output_type": "execute_result"
    }
   ],
   "source": [
    "mean_squared_error(y_train, y_pred_train, squared=False)"
   ]
  },
  {
   "cell_type": "markdown",
   "id": "093cb257-7692-4861-b22d-aff5e7de3ab9",
   "metadata": {},
   "source": [
    "## Now let's apply this model to the validation dataset (February 2023).\n",
    "\n",
    "## What's the RMSE on validation?"
   ]
  },
  {
   "cell_type": "code",
   "execution_count": 16,
   "id": "b3ec4489-a0e7-4113-8b98-e4055292fa78",
   "metadata": {},
   "outputs": [],
   "source": [
    "categorical = ['PULocationID', 'DOLocationID']\n",
    "def prepare_df(file_name):\n",
    "    df = pd.read_parquet(file_name)\n",
    "    df['duration'] = df['tpep_dropoff_datetime'] - df['tpep_pickup_datetime']\n",
    "    df['duration'] = df['duration'].apply(lambda x: x.total_seconds() / 60)\n",
    "    df = df[(df['duration'] >= 1) & (df['duration'] <= 60)]\n",
    "    df[categorical] = df[categorical].astype(str)\n",
    "    return df"
   ]
  },
  {
   "cell_type": "code",
   "execution_count": 17,
   "id": "b82b2fab-28d8-4bcd-b593-09817fbc3091",
   "metadata": {},
   "outputs": [],
   "source": [
    "def get_X_and_y(df):\n",
    "    dv = DictVectorizer()\n",
    "    cat_dict = df[categorical].to_dict(orient='records')\n",
    "    X_ = dv.fit_transform(cat_dict)\n",
    "    y_ = df['duration'].values\n",
    "    return X_, y_ "
   ]
  },
  {
   "cell_type": "code",
   "execution_count": 18,
   "id": "69b73d9f-af17-4f74-a0b1-6b639ce70a69",
   "metadata": {},
   "outputs": [],
   "source": [
    "train_df = prepare_df('./data/yellow_tripdata_2023-01.parquet')\n"
   ]
  },
  {
   "cell_type": "markdown",
   "id": "e974296f-a7e6-41ae-8f6e-7de77a4a512d",
   "metadata": {},
   "source": [
    "## The Feb dataset has only 514 categorical features ('PULocationID', 'DOLocationID') as a result. So we need to make sure that we train our model with the same amount of features or we will see an error. Let's remove one PULocationID with the lowest accurance"
   ]
  },
  {
   "cell_type": "code",
   "execution_count": 26,
   "id": "2a4b40bd-4468-47a8-a7e6-11388f8af07a",
   "metadata": {},
   "outputs": [],
   "source": [
    "train_df = train_df.drop(train_df[train_df['PULocationID'] == '42'].index)"
   ]
  },
  {
   "cell_type": "code",
   "execution_count": 27,
   "id": "8ec8c00a-d9a4-4abe-8842-3cbe9fa3ed79",
   "metadata": {},
   "outputs": [],
   "source": [
    "X_train, y_train = get_X_and_y(train_df)"
   ]
  },
  {
   "cell_type": "code",
   "execution_count": 23,
   "id": "6c23a4c7-4238-4410-9913-0eca6d4947ce",
   "metadata": {},
   "outputs": [],
   "source": [
    "valid_df = prepare_df('./data/yellow_tripdata_2023-02.parquet')\n",
    "X_valid, y_valid = get_X_and_y(valid_df)"
   ]
  },
  {
   "cell_type": "code",
   "execution_count": 29,
   "id": "f66e06a2-8bc7-484f-95b7-a107dbc9cf74",
   "metadata": {},
   "outputs": [],
   "source": [
    "lr = LinearRegression()\n",
    "lr.fit(X_train, y_train)\n",
    "y_pred = lr.predict(X_valid)"
   ]
  },
  {
   "cell_type": "code",
   "execution_count": 30,
   "id": "9428b769-69c6-4294-be65-fdd31aa1a053",
   "metadata": {},
   "outputs": [
    {
     "data": {
      "text/plain": [
       "18.164762054860947"
      ]
     },
     "execution_count": 30,
     "metadata": {},
     "output_type": "execute_result"
    }
   ],
   "source": [
    "mean_squared_error(y_valid, y_pred, squared=False)"
   ]
  },
  {
   "cell_type": "code",
   "execution_count": null,
   "id": "2a22ab16-7052-42ea-afdc-0409f5342458",
   "metadata": {},
   "outputs": [],
   "source": []
  }
 ],
 "metadata": {
  "kernelspec": {
   "display_name": "Python 3 (ipykernel)",
   "language": "python",
   "name": "python3"
  },
  "language_info": {
   "codemirror_mode": {
    "name": "ipython",
    "version": 3
   },
   "file_extension": ".py",
   "mimetype": "text/x-python",
   "name": "python",
   "nbconvert_exporter": "python",
   "pygments_lexer": "ipython3",
   "version": "3.11.7"
  }
 },
 "nbformat": 4,
 "nbformat_minor": 5
}
